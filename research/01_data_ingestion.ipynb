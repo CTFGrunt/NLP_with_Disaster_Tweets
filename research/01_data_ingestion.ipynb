{
 "cells": [
  {
   "cell_type": "code",
   "execution_count": 1,
   "metadata": {},
   "outputs": [],
   "source": [
    "from dataclasses import dataclass\n",
    "from pathlib import Path\n",
    "\n",
    "@dataclass(frozen=True)\n",
    "class DataIngestionConfig:\n",
    "    root_dir: Path\n",
    "    source_URL: str\n",
    "    local_data_file: Path\n",
    "    unzip_dir: Path"
   ]
  },
  {
   "cell_type": "code",
   "execution_count": 2,
   "metadata": {},
   "outputs": [],
   "source": [
    "from NLP_Disaster_Tweets.constants import *\n",
    "from NLP_Disaster_Tweets.utils.common import read_yaml, create_directories"
   ]
  },
  {
   "cell_type": "code",
   "execution_count": 3,
   "metadata": {},
   "outputs": [],
   "source": [
    "class ConfigurationManager:\n",
    "    def __init__(\n",
    "        self,\n",
    "        config_filepath = CONFIG_FILE_PATH,\n",
    "        params_filepath = PARAMS_FILE_PATH, \n",
    "        schema_filepath = SCHEMA_FILE_PATH):\n",
    "        \n",
    "        self.config = read_yaml(config_filepath)\n",
    "        self.params = read_yaml(params_filepath)\n",
    "        self.schema = read_yaml(schema_filepath)\n",
    "        create_directories([self.config.artifacts_root])\n",
    "    \n",
    "    def get_data_ingestion_config(self) -> DataIngestionConfig:\n",
    "        config = self.config.data_ingestion\n",
    "    \n",
    "        create_directories([config.root_dir])\n",
    "    \n",
    "        data_ingestion_config = DataIngestionConfig(\n",
    "            root_dir=config.root_dir,\n",
    "            source_URL=config.source_URL,\n",
    "            local_data_file=config.local_data_file,\n",
    "            unzip_dir=config.unzip_dir\n",
    "            )\n",
    "    \n",
    "        return data_ingestion_config"
   ]
  },
  {
   "cell_type": "code",
   "execution_count": 4,
   "metadata": {},
   "outputs": [],
   "source": [
    "import os\n",
    "import urllib.request as request\n",
    "import zipfile\n",
    "from NLP_Disaster_Tweets import logger\n",
    "from NLP_Disaster_Tweets.utils.common import get_size"
   ]
  },
  {
   "cell_type": "code",
   "execution_count": 5,
   "metadata": {},
   "outputs": [],
   "source": [
    "class DataIngestion:\n",
    "    def __init__(self, config: DataIngestionConfig):\n",
    "        self.config = config\n",
    "    \n",
    "    def download_file(self):\n",
    "        if not os.path.exists(self.config.local_data_file):\n",
    "            filename, headers = request.urlretrieve(\n",
    "                url = self.config.source_URL,\n",
    "                filename = self.config.local_data_file\n",
    "                )\n",
    "            logger.info(f\"{filename} download! with following info: \\n{headers}\")\n",
    "        else:\n",
    "            logger.info(f\"File already exists of size: {get_size(Path(self.config.local_data_file))}\")\n",
    "\n",
    "\n",
    "\n",
    "        def extract_zip_file(self):\n",
    "           \"\"\"\n",
    "            zip_file_path: str,\n",
    "            Extracts the zip file into the data directory\n",
    "            Function returns None\n",
    "            \"\"\"\n",
    "           unzip_path = self.config.unzip_dir\n",
    "           os.makedirs(unzip_path, exist_ok=True),\n",
    "           with zipfile.ZipFile(self.config.local_data_file, 'r') as zip_ref:\n",
    "                zip_ref.extractall(unzip_path)\n",
    "   "
   ]
  },
  {
   "cell_type": "code",
   "execution_count": 7,
   "metadata": {},
   "outputs": [
    {
     "name": "stdout",
     "output_type": "stream",
     "text": [
      "c:\\Users\\conta\\Desktop\\Data Enginering_2023_class\\MLOps_project\\NLP_with_Disaster_Tweets\\config\\config.yaml\n",
      "c:\\Users\\conta\\Desktop\\Data Enginering_2023_class\\MLOps_project\\NLP_with_Disaster_Tweets\\config\\config.yaml\n",
      "[2023-08-22 16:40:45,571: INFO: common: yaml file: c:\\Users\\conta\\Desktop\\Data Enginering_2023_class\\MLOps_project\\NLP_with_Disaster_Tweets\\config\\config.yaml loaded successfully]\n",
      "c:\\Users\\conta\\Desktop\\Data Enginering_2023_class\\MLOps_project\\NLP_with_Disaster_Tweets\\params.yaml\n",
      "c:\\Users\\conta\\Desktop\\Data Enginering_2023_class\\MLOps_project\\NLP_with_Disaster_Tweets\\params.yaml\n",
      "[2023-08-22 16:40:45,575: INFO: common: yaml file: c:\\Users\\conta\\Desktop\\Data Enginering_2023_class\\MLOps_project\\NLP_with_Disaster_Tweets\\params.yaml loaded successfully]\n",
      "c:\\Users\\conta\\Desktop\\Data Enginering_2023_class\\MLOps_project\\NLP_with_Disaster_Tweets\\schema.yaml\n",
      "c:\\Users\\conta\\Desktop\\Data Enginering_2023_class\\MLOps_project\\NLP_with_Disaster_Tweets\\schema.yaml\n",
      "[2023-08-22 16:40:45,579: INFO: common: yaml file: c:\\Users\\conta\\Desktop\\Data Enginering_2023_class\\MLOps_project\\NLP_with_Disaster_Tweets\\schema.yaml loaded successfully]\n",
      "[2023-08-22 16:40:45,588: INFO: common: created directory at: artifacts]\n",
      "[2023-08-22 16:40:45,590: INFO: common: created directory at: artifacts/data_ingestion]\n",
      "[2023-08-22 16:40:46,628: INFO: 223211888: artifacts/data_ingestion/data.csv download! with following info: \n",
      "Content-Type: text/html; charset=utf-8\n",
      "Date: Tue, 22 Aug 2023 16:40:47 GMT\n",
      "Cache-Control: no-cache, no-store\n",
      "Pragma: no-cache\n",
      "Set-Cookie: ka_sessionid=5f599b64ac84e63907c37f5b6f29df7f; max-age=2626560; path=/\n",
      "Set-Cookie: CSRF-TOKEN=CfDJ8OUZZhoRU_5EmXzVc6iDdFUZu_sx8H_ohX5TeLYQBSG30gBRFVERGpNYT8ObqWxwhW6mXcscQNgeA90rnpROPDOMJ5wChNv0MeBk02q9iQ; path=/; secure; samesite=lax; httponly\n",
      "Set-Cookie: XSRF-TOKEN=CfDJ8OUZZhoRU_5EmXzVc6iDdFUz8OgRoohqOqo8cKKsZ-Ed2dzjg3Uwn3fEEnw-uYXQEqScOlVruPO3t28h7LGXLZTX7x7tgXb-MPiJOfoNO6FNDg; path=/; secure; samesite=lax\n",
      "Set-Cookie: CLIENT-TOKEN=eyJhbGciOiJub25lIiwidHlwIjoiSldUIn0.eyJpc3MiOiJrYWdnbGUiLCJhdWQiOiJjbGllbnQiLCJzdWIiOm51bGwsIm5idCI6IjIwMjMtMDgtMjJUMTY6NDA6NDcuNDQzMzk3M1oiLCJpYXQiOiIyMDIzLTA4LTIyVDE2OjQwOjQ3LjQ0MzM5NzNaIiwianRpIjoiNmY4N2I0MjMtMjI2Yi00ZGFhLWI5MzMtYjZkZGRmYzU2MDJmIiwiZXhwIjoiMjAyMy0wOS0yMlQxNjo0MDo0Ny40NDMzOTczWiIsImFub24iOnRydWUsImZmIjpbIktlcm5lbHNGaXJlYmFzZUxvbmdQb2xsaW5nIiwiQ29tbXVuaXR5TG93ZXJIZWFkZXJTaXplcyIsIkFsbG93Rm9ydW1BdHRhY2htZW50cyIsIkZyb250ZW5kRXJyb3JSZXBvcnRpbmciLCJEYXRhc2V0c01hbmFnZWRGb2N1c09uT3BlbiIsIkRvaURhdGFzZXRUb21ic3RvbmVzIiwiQ2hhbmdlRGF0YXNldE93bmVyc2hpcFRvT3JnIiwiTWF1UmVwb3J0IiwiTW9kZWxzQ2FjaGVkVGFnU2VydmljZUVuYWJsZWQiLCJNb2RlbHNTaG93RmlsZUV4cGxvcmVyIiwiQ29tcGV0aXRpb25zUnVsZXNLbSIsIkRhdGFzZXRzU2hhcmVkV2l0aFRoZW1TZWFyY2giLCJEYXRhc2V0c1ZvdGluZ0NoaXBzIiwiTW9kZWxJbnN0YW5jZVJlbmRlcmVkVXNhZ2UiLCJSZWNlbnRseVZpZXdlZE1vZGVsc1NoZWxmIiwiRGF0YXNldHNOZXdEZWxldGVkVmlldyJdLCJmZmQiOnsiS2VybmVsRWRpdG9yQXV0b3NhdmVUaHJvdHRsZU1zIjoiMzAwMDAiLCJGcm9udGVuZEVycm9yUmVwb3J0aW5nU2FtcGxlUmF0ZSI6IjAiLCJFbWVyZ2VuY3lBbGVydEJhbm5lciI6Int9IiwiQ2xpZW50UnBjUmF0ZUxpbWl0IjoiNDAiLCJGZWF0dXJlZENvbW11bml0eUNvbXBldGl0aW9ucyI6IjUyMzAwLDU0ODU5IiwiQWRkRmVhdHVyZUZsYWdzVG9QYWdlTG9hZFRhZyI6ImRpc2FibGVkIiwiQ29tcGV0aXRpb25NZXRyaWNUaW1lb3V0TWludXRlcyI6IjMwIn0sInBpZCI6ImthZ2dsZS0xNjE2MDciLCJzdmMiOiJ3ZWItZmUiLCJzZGFrIjoiQUl6YVN5QTRlTnFVZFJSc2tKc0NaV1Z6LXFMNjU1WGE1SkVNcmVFIiwiYmxkIjoiMmQ2Yjk3YjZlM2M1YjdjYTQ5YjQ4NjRlM2Q4OTJkMGVjNmJjMTg1MiJ9.; path=/; secure; samesite=lax\n",
      "Transfer-Encoding: chunked\n",
      "Vary: Accept-Encoding\n",
      "Turbolinks-Location: https://www.kaggle.com/c/nlp-getting-started/data?select=train.csv\n",
      "X-Frame-Options: SAMEORIGIN\n",
      "Strict-Transport-Security: max-age=63072000; includeSubDomains; preload\n",
      "Content-Security-Policy: object-src 'none'; script-src 'nonce-PfbN7gOlqtzO3gljHzE13Q==' 'report-sample' 'unsafe-inline' 'unsafe-eval' 'strict-dynamic' https: http:; base-uri 'none'; report-uri https://csp.withgoogle.com/csp/kaggle/20201130; frame-src 'self' https://www.kaggleusercontent.com https://www.youtube.com/embed/ https://polygraph-cool.github.io https://www.google.com/recaptcha/ https://form.jotform.com https://submit.jotform.us https://submit.jotformpro.com https://submit.jotform.com https://www.docdroid.com https://www.docdroid.net https://kaggle-static.storage.googleapis.com https://kkb-production.jupyter-proxy.kaggle.net https://kkb-production.firebaseapp.com https://kaggle-metastore.firebaseapp.com https://apis.google.com https://content-sheets.googleapis.com/ https://accounts.google.com/ https://storage.googleapis.com https://docs.google.com https://drive.google.com https://calendar.google.com/;\n",
      "X-Content-Type-Options: nosniff\n",
      "Referrer-Policy: strict-origin-when-cross-origin\n",
      "Via: 1.1 google\n",
      "Set-Cookie: GCLB=CKD1j6r9xJ2wQA; path=/; HttpOnly\n",
      "Alt-Svc: h3=\":443\"; ma=2592000,h3-29=\":443\"; ma=2592000\n",
      "Connection: close\n",
      "\n",
      "]\n"
     ]
    }
   ],
   "source": [
    "try:\n",
    "    config = ConfigurationManager()\n",
    "    data_ingestion_config = config.get_data_ingestion_config()\n",
    "    data_ingestion = DataIngestion(config=data_ingestion_config)\n",
    "    data_ingestion.download_file()\n",
    "except Exception as e:\n",
    "    raise e"
   ]
  }
 ],
 "metadata": {
  "kernelspec": {
   "display_name": ".venv",
   "language": "python",
   "name": "python3"
  },
  "language_info": {
   "codemirror_mode": {
    "name": "ipython",
    "version": 3
   },
   "file_extension": ".py",
   "mimetype": "text/x-python",
   "name": "python",
   "nbconvert_exporter": "python",
   "pygments_lexer": "ipython3",
   "version": "3.11.3"
  },
  "orig_nbformat": 4
 },
 "nbformat": 4,
 "nbformat_minor": 2
}
