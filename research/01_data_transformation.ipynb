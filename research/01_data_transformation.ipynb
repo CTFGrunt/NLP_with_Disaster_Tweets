{
 "cells": [
  {
   "cell_type": "code",
   "execution_count": 7,
   "metadata": {},
   "outputs": [],
   "source": [
    "from dataclasses import dataclass\n",
    "from pathlib import Path\n",
    "\n",
    "\n",
    "@dataclass(frozen=True)\n",
    "class DataTransformationConfig:\n",
    "    root_dir: Path\n",
    "    data_path: Path"
   ]
  },
  {
   "cell_type": "code",
   "execution_count": 8,
   "metadata": {},
   "outputs": [],
   "source": [
    "from NLP_Disaster_Tweets.constants import *\n",
    "from NLP_Disaster_Tweets.utils.common import read_yaml, create_directories"
   ]
  },
  {
   "cell_type": "code",
   "execution_count": 9,
   "metadata": {},
   "outputs": [],
   "source": [
    "class ConfigurationManager:\n",
    "    def __init__(\n",
    "        self,\n",
    "        config_filepath = CONFIG_FILE_PATH,\n",
    "        params_filepath = PARAMS_FILE_PATH,\n",
    "        schema_filepath = SCHEMA_FILE_PATH):\n",
    "\n",
    "        self.config = read_yaml(config_filepath)\n",
    "        self.params = read_yaml(params_filepath)\n",
    "        self.schema = read_yaml(schema_filepath)\n",
    "\n",
    "        create_directories([self.config.artifacts_root])\n",
    "\n",
    "\n",
    "    \n",
    "    def get_data_transformation_config(self) -> DataTransformationConfig:\n",
    "        config = self.config.data_transformation\n",
    "\n",
    "        create_directories([config.root_dir])\n",
    "\n",
    "        data_transformation_config = DataTransformationConfig(\n",
    "            root_dir=config.root_dir,\n",
    "            data_path=config.data_path,\n",
    "        )\n",
    "\n",
    "        return data_transformation_config"
   ]
  },
  {
   "cell_type": "code",
   "execution_count": 13,
   "metadata": {},
   "outputs": [],
   "source": [
    "import os\n",
    "from NLP_Disaster_Tweets import logger\n",
    "from sklearn.model_selection import train_test_split\n",
    "import pandas as pd\n",
    "import yaml"
   ]
  },
  {
   "cell_type": "code",
   "execution_count": 14,
   "metadata": {},
   "outputs": [],
   "source": [
    "class DataTransformation:\n",
    "    def __init__(self, config: DataTransformationConfig):\n",
    "        self.config = config\n",
    "        with open('../params.yaml', 'r') as yaml_file:\n",
    "            yaml_data = yaml.safe_load(yaml_file)\n",
    "\n",
    "        # Access the variable\n",
    "        self.test_size = yaml_data['TEST_SIZE']\n",
    "        self.train_size = yaml_data['TRAIN_SIZE']\n",
    "\n",
    "    \n",
    "    ## Note: You can add different data transformation techniques such as Scaler, PCA and all\n",
    "    #You can perform all kinds of EDA in ML cycle here before passing this data to the model\n",
    "\n",
    "    # I am only adding train_test_spliting cz this data is already cleaned up\n",
    "\n",
    "\n",
    "    def train_test_spliting(self):\n",
    "        data = pd.read_csv(self.config.data_path)\n",
    "\n",
    "        # Split the data into training and test sets. (0.75, 0.25) split.\n",
    "        train, test = train_test_split(data,test_size=0.25, train_size=0.75)\n",
    "\n",
    "        train.to_csv(os.path.join(self.config.root_dir, \"train.csv\"),index = False)\n",
    "        test.to_csv(os.path.join(self.config.root_dir, \"test.csv\"),index = False)\n",
    "\n",
    "        logger.info(\"Splited data into training and test sets\")\n",
    "        logger.info(train.shape)\n",
    "        logger.info(test.shape)\n",
    "\n",
    "        print(train.shape)\n",
    "        print(test.shape)\n",
    "        "
   ]
  },
  {
   "cell_type": "code",
   "execution_count": 16,
   "metadata": {},
   "outputs": [
    {
     "name": "stdout",
     "output_type": "stream",
     "text": [
      "c:\\Users\\conta\\Desktop\\Data Enginering_2023_class\\MLOps_project\\NLP_with_Disaster_Tweets\\config\\config.yaml\n",
      "c:\\Users\\conta\\Desktop\\Data Enginering_2023_class\\MLOps_project\\NLP_with_Disaster_Tweets\\config\\config.yaml\n",
      "[2023-08-23 01:51:49,620: INFO: common: yaml file: c:\\Users\\conta\\Desktop\\Data Enginering_2023_class\\MLOps_project\\NLP_with_Disaster_Tweets\\config\\config.yaml loaded successfully]\n",
      "c:\\Users\\conta\\Desktop\\Data Enginering_2023_class\\MLOps_project\\NLP_with_Disaster_Tweets\\params.yaml\n",
      "c:\\Users\\conta\\Desktop\\Data Enginering_2023_class\\MLOps_project\\NLP_with_Disaster_Tweets\\params.yaml\n",
      "[2023-08-23 01:51:49,637: INFO: common: yaml file: c:\\Users\\conta\\Desktop\\Data Enginering_2023_class\\MLOps_project\\NLP_with_Disaster_Tweets\\params.yaml loaded successfully]\n",
      "c:\\Users\\conta\\Desktop\\Data Enginering_2023_class\\MLOps_project\\NLP_with_Disaster_Tweets\\schema.yaml\n",
      "c:\\Users\\conta\\Desktop\\Data Enginering_2023_class\\MLOps_project\\NLP_with_Disaster_Tweets\\schema.yaml\n",
      "[2023-08-23 01:51:49,641: INFO: common: yaml file: c:\\Users\\conta\\Desktop\\Data Enginering_2023_class\\MLOps_project\\NLP_with_Disaster_Tweets\\schema.yaml loaded successfully]\n",
      "[2023-08-23 01:51:49,643: INFO: common: created directory at: artifacts]\n",
      "[2023-08-23 01:51:49,645: INFO: common: created directory at: artifacts/data_transformation]\n",
      "[2023-08-23 01:51:49,798: INFO: 1224398246: Splited data into training and test sets]\n",
      "[2023-08-23 01:51:49,801: INFO: 1224398246: (5709, 5)]\n",
      "[2023-08-23 01:51:49,803: INFO: 1224398246: (1904, 5)]\n",
      "(5709, 5)\n",
      "(1904, 5)\n"
     ]
    }
   ],
   "source": [
    "try:\n",
    "    config = ConfigurationManager()\n",
    "    data_transformation_config = config.get_data_transformation_config()\n",
    "    data_transformation = DataTransformation(config=data_transformation_config)\n",
    "    data_transformation.train_test_spliting()\n",
    "except Exception as e:\n",
    "    raise e"
   ]
  }
 ],
 "metadata": {
  "kernelspec": {
   "display_name": ".venv",
   "language": "python",
   "name": "python3"
  },
  "language_info": {
   "codemirror_mode": {
    "name": "ipython",
    "version": 3
   },
   "file_extension": ".py",
   "mimetype": "text/x-python",
   "name": "python",
   "nbconvert_exporter": "python",
   "pygments_lexer": "ipython3",
   "version": "3.11.3"
  },
  "orig_nbformat": 4
 },
 "nbformat": 4,
 "nbformat_minor": 2
}
