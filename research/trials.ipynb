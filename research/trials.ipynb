{
 "cells": [
  {
   "cell_type": "code",
   "execution_count": 1,
   "metadata": {},
   "outputs": [],
   "source": [
    "d={\"key\": \"value\",\"key1\":\"value1\"}"
   ]
  },
  {
   "cell_type": "code",
   "execution_count": null,
   "metadata": {},
   "outputs": [],
   "source": []
  },
  {
   "cell_type": "code",
   "execution_count": 1,
   "metadata": {},
   "outputs": [
    {
     "name": "stdout",
     "output_type": "stream",
     "text": [
      "c:\\Users\\conta\\Desktop\\Data Enginering_2023_class\\MLOps_project\\NLP_with_Disaster_Tweets\\config\\config.yaml\n",
      "c:\\Users\\conta\\Desktop\\Data Enginering_2023_class\\MLOps_project\\NLP_with_Disaster_Tweets\\config\\config.yaml\n",
      "[2023-08-22 16:39:37,902: INFO: common: yaml file: c:\\Users\\conta\\Desktop\\Data Enginering_2023_class\\MLOps_project\\NLP_with_Disaster_Tweets\\config\\config.yaml loaded successfully]\n"
     ]
    },
    {
     "data": {
      "text/plain": [
       "ConfigBox({'artifacts_root': 'artifacts', 'data_ingestion': {'root_dir': 'artifacts/data_ingestion', 'source_URL': 'https://www.kaggle.com/c/nlp-getting-started/data?select=train.csv', 'local_data_file': 'artifacts/data_ingestion/data.csv', 'unzip_dir': 'artifacts/data_ingestion'}})"
      ]
     },
     "execution_count": 1,
     "metadata": {},
     "output_type": "execute_result"
    }
   ],
   "source": [
    "from NLP_Disaster_Tweets.utils.common import read_yaml, create_directories\n",
    "from NLP_Disaster_Tweets.constants import *\n",
    "\n",
    "read_yaml(CONFIG_FILE_PATH)"
   ]
  }
 ],
 "metadata": {
  "kernelspec": {
   "display_name": ".venv",
   "language": "python",
   "name": "python3"
  },
  "language_info": {
   "codemirror_mode": {
    "name": "ipython",
    "version": 3
   },
   "file_extension": ".py",
   "mimetype": "text/x-python",
   "name": "python",
   "nbconvert_exporter": "python",
   "pygments_lexer": "ipython3",
   "version": "3.11.3"
  },
  "orig_nbformat": 4
 },
 "nbformat": 4,
 "nbformat_minor": 2
}
